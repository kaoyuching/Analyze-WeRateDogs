{
 "cells": [
  {
   "cell_type": "markdown",
   "metadata": {},
   "source": [
    "# Analysis and Visualization Report"
   ]
  },
  {
   "cell_type": "markdown",
   "metadata": {},
   "source": [
    "Dogs are definately adorable. There is a twitter account ***WeRateDogs*** that rates people's dogs with a humorous comment about the dog. This account, which has 7.44 million followers, is popular."
   ]
  },
  {
   "cell_type": "markdown",
   "metadata": {},
   "source": [
    "In this report, I will describe some discovery that I get from data **twitter_archive_master.csv** collected from ***WeRateDogs*** on twitter."
   ]
  },
  {
   "cell_type": "markdown",
   "metadata": {},
   "source": [
    "## Overview"
   ]
  },
  {
   "cell_type": "markdown",
   "metadata": {},
   "source": [
    "The overview table is show in the following. Including rating_numerator, rating_denominator, retweet_count ,and favorite_count."
   ]
  },
  {
   "cell_type": "markdown",
   "metadata": {},
   "source": [
    "<table>\n",
    "  <thead>\n",
    "    <tr>\n",
    "      <th>Statistics</th>\n",
    "      <th>rating_numerator</th>\n",
    "      <th>tweet_count</th>\n",
    "      <th>favorite_count</th>\n",
    "    </tr>\n",
    "  </thead>\n",
    "  <tbody>\n",
    "    <tr>\n",
    "      <td>Count</td>\n",
    "      <td>1584</td>\n",
    "      <td>1584</td>\n",
    "      <td>1584</td>\n",
    "    </tr>\n",
    "    <tr>\n",
    "      <td>Mean</td>\n",
    "      <td>12.86</td>\n",
    "      <td>3168.45</td>\n",
    "      <td>10476.42</td>\n",
    "    </tr>\n",
    "    <tr>\n",
    "      <td>Std</td>\n",
    "      <td>45.55</td>\n",
    "      <td>5240.62</td>\n",
    "      <td>13874.19</td>\n",
    "    </tr>\n",
    "    <tr>\n",
    "      <td>Min</td>\n",
    "      <td>10</td>\n",
    "      <td>0</td>\n",
    "      <td>0</td>\n",
    "    </tr>\n",
    "    <tr>\n",
    "      <td>25%</td>\n",
    "      <td>10</td>\n",
    "      <td>754.75</td>\n",
    "      <td>2525</td>\n",
    "    </tr>\n",
    "    <tr>\n",
    "      <td>50%</td>\n",
    "      <td>11</td>\n",
    "      <td>1699</td>\n",
    "      <td>5598</td>\n",
    "    </tr>\n",
    "    <tr>\n",
    "      <td>75%</td>\n",
    "      <td>12</td>\n",
    "      <td>3603.25</td>\n",
    "      <td>13477.5</td>\n",
    "    </tr>\n",
    "    <tr>\n",
    "      <td>Max</td>\n",
    "      <td>1776</td>\n",
    "      <td>84502</td>\n",
    "      <td>164884</td>\n",
    "    </tr>\n",
    "  </tbody>\n",
    "</table>"
   ]
  },
  {
   "cell_type": "markdown",
   "metadata": {},
   "source": [
    "First, view the basic statistics of rating_numerator. As I drop all data which have rating_numerator lower than 10, so the minium rating_numerator is 10, the median is 11, the mean is 12.86, the maximun rating_numerator is 1776 which is far greater than all the other rating_numerator. "
   ]
  },
  {
   "cell_type": "markdown",
   "metadata": {},
   "source": [
    "I curious about the image of which has maximun rating. I find this image is fascinating. The dog in the image wear American style hat, sunglasses, and bow tie. Hence, I show the adorable dog below."
   ]
  },
  {
   "cell_type": "markdown",
   "metadata": {},
   "source": [
    "<img src=\"./image/max_rating.jpg\" width=\"250\"/>"
   ]
  },
  {
   "cell_type": "markdown",
   "metadata": {},
   "source": [
    "Second, view the basic statistics of retweet_count and favorite_count. The maximun of this two column are really high which has 84502 retweets and 164884 favorites. Hence, I find which twitter has the amazing number of retweet and favorite. Actually, this twitter is a [video](https://t.co/7wE9LTEXC4) of a swimming dog!"
   ]
  },
  {
   "cell_type": "markdown",
   "metadata": {},
   "source": [
    "## Top 10 breed of all data"
   ]
  },
  {
   "cell_type": "markdown",
   "metadata": {},
   "source": [
    "Among all data, we can discover the top 10 breed appear in WeRateDogs' twitter are: Golden Retriever, Labrador Retriever, Pembroke, Chihuahua, Chow, Pug, Samoyed, Pomeranian, Toy Poodle, and Malamute. "
   ]
  },
  {
   "cell_type": "markdown",
   "metadata": {},
   "source": [
    "<table>\n",
    "  <tbody>\n",
    "    <tr>\n",
    "      <td> \n",
    "      <img src=\"./image/golden_retriever.jpg\" style=\"width:200;height:200px;\"/> <br>\n",
    "      </td> \n",
    "      <td> \n",
    "      <img src=\"./image/labrador_retriever.jpg\" style=\"width:200;height:200px;\"/> <br>\n",
    "      </td> \n",
    "      <td> \n",
    "      <img src=\"./image/pembroke.jpg\" style=\"width:200;height:200px;\"/> <br>\n",
    "      </td> \n",
    "      <td> \n",
    "      <img src=\"./image/chihuahua.jpg\" style=\"width:200;height:200px;\"/> <br>\n",
    "      </td> \n",
    "      <td> \n",
    "      <img src=\"./image/chow.jpg\" style=\"width:200;height:200px;\"/> <br>\n",
    "      </td> \n",
    "    </tr>\n",
    "  </tbody>\n",
    "</table>\n",
    "<caption><center> Top1 to Top5 dog breeds </center></caption>"
   ]
  },
  {
   "cell_type": "markdown",
   "metadata": {},
   "source": [
    "<table>\n",
    "  <tbody>\n",
    "    <tr>\n",
    "      <td> \n",
    "      <img src=\"./image/pug.jpg\" style=\"width:200;height:200px;\"/> <br>\n",
    "      </td> \n",
    "      <td> \n",
    "      <img src=\"./image/samoyed.jpg\" style=\"width:200;height:200px;\"/> <br>\n",
    "      </td> \n",
    "      <td> \n",
    "      <img src=\"./image/pomeranian.jpg\" style=\"width:200;height:200px;\"/> <br>\n",
    "      </td> \n",
    "      <td> \n",
    "      <img src=\"./image/toy_poodle.jpg\" style=\"width:200;height:200px;\"/> <br>\n",
    "      </td> \n",
    "      <td> \n",
    "      <img src=\"./image/malamute.jpg\" style=\"width:200;height:200px;\"/> <br>\n",
    "      </td> \n",
    "    </tr>\n",
    "  </tbody>\n",
    "</table>\n",
    "<caption><center> Top6 to Top10 dog breeds </center></caption>"
   ]
  },
  {
   "cell_type": "markdown",
   "metadata": {},
   "source": [
    "Refer to the bar chart below. Especially, 136 images are recognized as Golden Retriever, this breed appears the most frequently while the Labrador appears 87 times in data follow it."
   ]
  },
  {
   "cell_type": "markdown",
   "metadata": {},
   "source": [
    "<img src='./image/top10_breed.png'/>"
   ]
  },
  {
   "cell_type": "markdown",
   "metadata": {},
   "source": [
    "## Proportion of higher rating and lower rating in top10 breed"
   ]
  },
  {
   "cell_type": "markdown",
   "metadata": {},
   "source": [
    "I seperate rating as **higher** and **lower**. They are distinguish by median of rating numerator which is 11. After knowing top10 breed in the data, I also want to know what proportion of higher rating and lower rating in each breed in top10 breed. From the bar chart below, we can recognize which breed have more proportion in higher rating and which breed have more proportion in lower rating."
   ]
  },
  {
   "cell_type": "markdown",
   "metadata": {},
   "source": [
    "- **More proportion in higher rating**: Golden Retriever, Pembroke, Chihuahua, Chow, Samoyed.\n",
    "- **More proportion in lower rating**: Labrador Retriever, Pug, Pomeranian, Toy Poodle, Malamute."
   ]
  },
  {
   "cell_type": "markdown",
   "metadata": {},
   "source": [
    "<img src='./image/proportion_of_high_low.png'/>"
   ]
  },
  {
   "cell_type": "markdown",
   "metadata": {},
   "source": [
    "## Between higher rating and lower rating, how's the distribution of stage ?"
   ]
  },
  {
   "cell_type": "markdown",
   "metadata": {},
   "source": [
    "### What's the STAGE ?"
   ]
  },
  {
   "cell_type": "markdown",
   "metadata": {},
   "source": [
    "Stage of dog can roughly classify into four categories: **pupper**, **doggo**, **puppo**, and **floofer**."
   ]
  },
  {
   "cell_type": "markdown",
   "metadata": {},
   "source": [
    "Here's definition of stage via the *WeRateDogs book* on Amazon.  \n",
    "\n",
    "<blockquote>\n",
    "<p><strong>pupper</strong></p>\n",
    "<p>&nbsp; &nbsp; 1. A small doggo, usually younger. Can be equally, if not mature than some doggos.</p>\n",
    "<p>&nbsp; &nbsp; 2. A doggo that is inexperienced, unfamiliar, or in any way unprepared for the responsibilities associated with being a doggo.</p>\n",
    "<p><strong>doggo</strong></p>\n",
    "<p>&nbsp; &nbsp; 1. A bigg pupper, usually older. This label does not stop a doggo from behaving like a pupper.</p>\n",
    "<p>&nbsp; &nbsp; 2. A pupper that appears to have its life in order. Probably understands taxes and whatnot.</p>\n",
    "<p><strong>puppo</strong></p>\n",
    "<p>&nbsp; &nbsp; 1. This is question two.> 1. A traditional phase between pupper and doggo. Easily understood as the dog equivalent of a teenager.</p>\n",
    "<p>&nbsp; &nbsp; 2. A dog with a mixed bag of both pupper and doggo tendencies.</p>\n",
    "<p><strong>floofer</strong></p>\n",
    "<p>&nbsp; &nbsp; 1. Any dog really. However, this label is commomly given to dogs with seemingly excess fur. Comical amounts of fur on a dog will certainly earn the dog this generic name.</p>\n",
    "<p>&nbsp; &nbsp; 2. Dog fur. The term holds true whether the fur is still on the dog, or if it has been shed off.</p>\n",
    "</blockquote>"
   ]
  },
  {
   "cell_type": "markdown",
   "metadata": {},
   "source": [
    "<table>\n",
    "  <tbody>\n",
    "    <tr>\n",
    "    <td> \n",
    "    <img src=\"./image/pupper.jpg\" style=\"width:200;height:200px;\"/> <br>\n",
    "    </td> \n",
    "    <td> \n",
    "    <img src=\"./image/doggo.jpg\" style=\"width:200;height:200px;\"/> <br>\n",
    "    </td> \n",
    "    <td> \n",
    "    <img src=\"./image/puppo.jpg\" style=\"width:200;height:200px;\"/> <br>\n",
    "    </td> \n",
    "    <td> \n",
    "    <img src=\"./image/floofer.jpg\" style=\"width:200;height:200px;\"/> <br>\n",
    "    </td> \n",
    "    </tr>\n",
    "  </tbody>\n",
    "</table>\n",
    "<caption><center> pupper、doogo、puppo、floofer</center></caption>"
   ]
  },
  {
   "cell_type": "markdown",
   "metadata": {},
   "source": [
    "Let's compare the number of each stage in higher rating and lower rating with ignoring unknown stage data. In the dataset, we have pupper, doogo, puppo, and floofer; besides, we also have a stage called multiple which represent more than one stage appeared in a picture."
   ]
  },
  {
   "cell_type": "markdown",
   "metadata": {},
   "source": [
    "From the following picture I discover that in stage **pupper** there are more dogs which have lower rating. However, in other stage(doggo, puppo, floofer, and multiple) more dogs have higher rating."
   ]
  },
  {
   "cell_type": "markdown",
   "metadata": {},
   "source": [
    "<img src=\"./image/number_of_stage.png\"/>"
   ]
  },
  {
   "cell_type": "markdown",
   "metadata": {},
   "source": [
    "## Correlation between retweet count and favorite count is positive or negative ?"
   ]
  },
  {
   "cell_type": "markdown",
   "metadata": {},
   "source": [
    "I wonder the relation between the number of retweet and the number of favorite. Hence, I plot a scatter plot as following. From the scatter plot, it is apparent that twitter's retweet and favorite number has positive correlation."
   ]
  },
  {
   "cell_type": "markdown",
   "metadata": {},
   "source": [
    "<img src=\"./image/retweet_favorite_scatter.png\"/>"
   ]
  }
 ],
 "metadata": {
  "kernelspec": {
   "display_name": "Python [default]",
   "language": "python",
   "name": "python3"
  },
  "language_info": {
   "codemirror_mode": {
    "name": "ipython",
    "version": 3
   },
   "file_extension": ".py",
   "mimetype": "text/x-python",
   "name": "python",
   "nbconvert_exporter": "python",
   "pygments_lexer": "ipython3",
   "version": "3.6.6"
  }
 },
 "nbformat": 4,
 "nbformat_minor": 2
}
